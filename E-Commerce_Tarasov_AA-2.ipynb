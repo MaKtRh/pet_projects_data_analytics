{
 "cells": [
  {
   "cell_type": "markdown",
   "id": "42688a34",
   "metadata": {},
   "source": [
    "# Анализ данных в сфере Электронной торговли"
   ]
  },
  {
   "cell_type": "markdown",
   "id": "047ad993",
   "metadata": {},
   "source": [
    "Проанализируем набор данных, который содержит все транзакции, происходящие между 01/12/2010 и 09/12/2011 для зарегистрированных пользователей онлайн-сайта. Попробуем произвести предобработку данных и EDA (Исследовательский анализ данных)."
   ]
  },
  {
   "cell_type": "code",
   "execution_count": 5,
   "id": "a14880fb",
   "metadata": {},
   "outputs": [],
   "source": [
    "#Импортируем необходимые библиотеки\n",
    "import pandas as pd\n",
    "import seaborn as sns\n",
    "import plotly.express as px\n",
    "import matplotlib.pyplot as plt\n",
    "import matplotlib.colors as mcolors\n",
    "import plotly.graph_objs as go\n",
    "from plotly.offline import iplot"
   ]
  },
  {
   "cell_type": "code",
   "execution_count": 6,
   "id": "d53e7a7a",
   "metadata": {},
   "outputs": [],
   "source": [
    "data = pd.read_csv('/Users/a1/Desktop/Мои проекты/E-Commerce/data.csv', encoding=\"ISO-8859-1\")"
   ]
  },
  {
   "cell_type": "code",
   "execution_count": 7,
   "id": "400c210a",
   "metadata": {},
   "outputs": [
    {
     "data": {
      "text/html": [
       "<div>\n",
       "<style scoped>\n",
       "    .dataframe tbody tr th:only-of-type {\n",
       "        vertical-align: middle;\n",
       "    }\n",
       "\n",
       "    .dataframe tbody tr th {\n",
       "        vertical-align: top;\n",
       "    }\n",
       "\n",
       "    .dataframe thead th {\n",
       "        text-align: right;\n",
       "    }\n",
       "</style>\n",
       "<table border=\"1\" class=\"dataframe\">\n",
       "  <thead>\n",
       "    <tr style=\"text-align: right;\">\n",
       "      <th></th>\n",
       "      <th>InvoiceNo</th>\n",
       "      <th>StockCode</th>\n",
       "      <th>Description</th>\n",
       "      <th>Quantity</th>\n",
       "      <th>InvoiceDate</th>\n",
       "      <th>UnitPrice</th>\n",
       "      <th>CustomerID</th>\n",
       "      <th>Country</th>\n",
       "    </tr>\n",
       "  </thead>\n",
       "  <tbody>\n",
       "    <tr>\n",
       "      <th>0</th>\n",
       "      <td>536365</td>\n",
       "      <td>85123A</td>\n",
       "      <td>WHITE HANGING HEART T-LIGHT HOLDER</td>\n",
       "      <td>6</td>\n",
       "      <td>12/1/2010 8:26</td>\n",
       "      <td>2.55</td>\n",
       "      <td>17850.0</td>\n",
       "      <td>United Kingdom</td>\n",
       "    </tr>\n",
       "    <tr>\n",
       "      <th>1</th>\n",
       "      <td>536365</td>\n",
       "      <td>71053</td>\n",
       "      <td>WHITE METAL LANTERN</td>\n",
       "      <td>6</td>\n",
       "      <td>12/1/2010 8:26</td>\n",
       "      <td>3.39</td>\n",
       "      <td>17850.0</td>\n",
       "      <td>United Kingdom</td>\n",
       "    </tr>\n",
       "    <tr>\n",
       "      <th>2</th>\n",
       "      <td>536365</td>\n",
       "      <td>84406B</td>\n",
       "      <td>CREAM CUPID HEARTS COAT HANGER</td>\n",
       "      <td>8</td>\n",
       "      <td>12/1/2010 8:26</td>\n",
       "      <td>2.75</td>\n",
       "      <td>17850.0</td>\n",
       "      <td>United Kingdom</td>\n",
       "    </tr>\n",
       "    <tr>\n",
       "      <th>3</th>\n",
       "      <td>536365</td>\n",
       "      <td>84029G</td>\n",
       "      <td>KNITTED UNION FLAG HOT WATER BOTTLE</td>\n",
       "      <td>6</td>\n",
       "      <td>12/1/2010 8:26</td>\n",
       "      <td>3.39</td>\n",
       "      <td>17850.0</td>\n",
       "      <td>United Kingdom</td>\n",
       "    </tr>\n",
       "    <tr>\n",
       "      <th>4</th>\n",
       "      <td>536365</td>\n",
       "      <td>84029E</td>\n",
       "      <td>RED WOOLLY HOTTIE WHITE HEART.</td>\n",
       "      <td>6</td>\n",
       "      <td>12/1/2010 8:26</td>\n",
       "      <td>3.39</td>\n",
       "      <td>17850.0</td>\n",
       "      <td>United Kingdom</td>\n",
       "    </tr>\n",
       "  </tbody>\n",
       "</table>\n",
       "</div>"
      ],
      "text/plain": [
       "  InvoiceNo StockCode                          Description  Quantity  \\\n",
       "0    536365    85123A   WHITE HANGING HEART T-LIGHT HOLDER         6   \n",
       "1    536365     71053                  WHITE METAL LANTERN         6   \n",
       "2    536365    84406B       CREAM CUPID HEARTS COAT HANGER         8   \n",
       "3    536365    84029G  KNITTED UNION FLAG HOT WATER BOTTLE         6   \n",
       "4    536365    84029E       RED WOOLLY HOTTIE WHITE HEART.         6   \n",
       "\n",
       "      InvoiceDate  UnitPrice  CustomerID         Country  \n",
       "0  12/1/2010 8:26       2.55     17850.0  United Kingdom  \n",
       "1  12/1/2010 8:26       3.39     17850.0  United Kingdom  \n",
       "2  12/1/2010 8:26       2.75     17850.0  United Kingdom  \n",
       "3  12/1/2010 8:26       3.39     17850.0  United Kingdom  \n",
       "4  12/1/2010 8:26       3.39     17850.0  United Kingdom  "
      ]
     },
     "execution_count": 7,
     "metadata": {},
     "output_type": "execute_result"
    }
   ],
   "source": [
    "data.head()"
   ]
  },
  {
   "cell_type": "markdown",
   "id": "d2a20578",
   "metadata": {},
   "source": [
    "Набор данных содержит в себе следующие столбцы:\n",
    "\n",
    "`InvoiceNo` - Номер транзакции, номинальный, 6-значный номер, однозначно присвоенный каждой операции. Если этот код начинается с буквы с, он указывает на отмену\n",
    "\n",
    "`StockCode` - Код продукта (элемента). Номинальный, 5-значный номер, однозначно присвоенный каждому отдельному продукту.\n",
    "\n",
    "`Description` - Краткое описание товара.\n",
    "\n",
    "`Quantity` - Количество данного товара.\n",
    "\n",
    "`InvoiceDate` - Дата и время транзакции. Числовые, день и время создания каждой транзакции.\n",
    "\n",
    "`UnitPrice` - Цена продукции на единицу стерлингов.\n",
    "\n",
    "`CustomerID` - Уникальный ID пользователя.\n",
    "\n",
    "`Country` - Название страны, в которой проживает каждый клиент."
   ]
  },
  {
   "cell_type": "markdown",
   "id": "df62510f",
   "metadata": {},
   "source": [
    "**Мы видим, что в файле данных есть информация, предоставленная для каждой транзакции. Посмотрим на номер счета-фактуры и идентификатор клиента первых записей. Здесь мы видим, что один клиент с идентификатором 17850 из Великобритании сделал один заказ с номером InvoideNo 536365. Клиент заказал несколько продуктов с различными складскими кодами, описаниями, ценами за единицу и количеством. Кроме того, мы видим, что InvoiceDate был одинаковым для этих продуктов.**"
   ]
  },
  {
   "cell_type": "code",
   "execution_count": 8,
   "id": "5b6ca708",
   "metadata": {},
   "outputs": [
    {
     "data": {
      "text/plain": [
       "(541909, 8)"
      ]
     },
     "execution_count": 8,
     "metadata": {},
     "output_type": "execute_result"
    }
   ],
   "source": [
    "#Выведем размер таблицы (Строки, Столбцы)\n",
    "data.shape"
   ]
  },
  {
   "cell_type": "code",
   "execution_count": 9,
   "id": "0a750f02",
   "metadata": {},
   "outputs": [
    {
     "data": {
      "text/plain": [
       "InvoiceNo       object\n",
       "StockCode       object\n",
       "Description     object\n",
       "Quantity         int64\n",
       "InvoiceDate     object\n",
       "UnitPrice      float64\n",
       "CustomerID     float64\n",
       "Country         object\n",
       "dtype: object"
      ]
     },
     "execution_count": 9,
     "metadata": {},
     "output_type": "execute_result"
    }
   ],
   "source": [
    "data.dtypes"
   ]
  },
  {
   "cell_type": "code",
   "execution_count": 10,
   "id": "a04c351b",
   "metadata": {},
   "outputs": [
    {
     "name": "stdout",
     "output_type": "stream",
     "text": [
      "<class 'pandas.core.frame.DataFrame'>\n",
      "RangeIndex: 541909 entries, 0 to 541908\n",
      "Data columns (total 8 columns):\n",
      " #   Column       Non-Null Count   Dtype  \n",
      "---  ------       --------------   -----  \n",
      " 0   InvoiceNo    541909 non-null  object \n",
      " 1   StockCode    541909 non-null  object \n",
      " 2   Description  540455 non-null  object \n",
      " 3   Quantity     541909 non-null  int64  \n",
      " 4   InvoiceDate  541909 non-null  object \n",
      " 5   UnitPrice    541909 non-null  float64\n",
      " 6   CustomerID   406829 non-null  float64\n",
      " 7   Country      541909 non-null  object \n",
      "dtypes: float64(2), int64(1), object(5)\n",
      "memory usage: 33.1+ MB\n"
     ]
    }
   ],
   "source": [
    "#Выведем общую информацию о датасете\n",
    "data.info()"
   ]
  },
  {
   "cell_type": "markdown",
   "id": "31b62fc5",
   "metadata": {},
   "source": [
    "**Исходя из данных, в нашем датасете содержатся пропущенные значения в столбце CustomerID, также было бы неплохо перевести столбец с датой транзакции, а именно InvoiceDate в тип DateTime64**"
   ]
  },
  {
   "cell_type": "code",
   "execution_count": 11,
   "id": "00a18821",
   "metadata": {},
   "outputs": [
    {
     "data": {
      "text/html": [
       "<div>\n",
       "<style scoped>\n",
       "    .dataframe tbody tr th:only-of-type {\n",
       "        vertical-align: middle;\n",
       "    }\n",
       "\n",
       "    .dataframe tbody tr th {\n",
       "        vertical-align: top;\n",
       "    }\n",
       "\n",
       "    .dataframe thead th {\n",
       "        text-align: right;\n",
       "    }\n",
       "</style>\n",
       "<table border=\"1\" class=\"dataframe\">\n",
       "  <thead>\n",
       "    <tr style=\"text-align: right;\">\n",
       "      <th></th>\n",
       "      <th>Quantity</th>\n",
       "      <th>UnitPrice</th>\n",
       "      <th>CustomerID</th>\n",
       "    </tr>\n",
       "  </thead>\n",
       "  <tbody>\n",
       "    <tr>\n",
       "      <th>count</th>\n",
       "      <td>541909.000000</td>\n",
       "      <td>541909.000000</td>\n",
       "      <td>406829.000000</td>\n",
       "    </tr>\n",
       "    <tr>\n",
       "      <th>mean</th>\n",
       "      <td>9.552250</td>\n",
       "      <td>4.611114</td>\n",
       "      <td>15287.690570</td>\n",
       "    </tr>\n",
       "    <tr>\n",
       "      <th>std</th>\n",
       "      <td>218.081158</td>\n",
       "      <td>96.759853</td>\n",
       "      <td>1713.600303</td>\n",
       "    </tr>\n",
       "    <tr>\n",
       "      <th>min</th>\n",
       "      <td>-80995.000000</td>\n",
       "      <td>-11062.060000</td>\n",
       "      <td>12346.000000</td>\n",
       "    </tr>\n",
       "    <tr>\n",
       "      <th>25%</th>\n",
       "      <td>1.000000</td>\n",
       "      <td>1.250000</td>\n",
       "      <td>13953.000000</td>\n",
       "    </tr>\n",
       "    <tr>\n",
       "      <th>50%</th>\n",
       "      <td>3.000000</td>\n",
       "      <td>2.080000</td>\n",
       "      <td>15152.000000</td>\n",
       "    </tr>\n",
       "    <tr>\n",
       "      <th>75%</th>\n",
       "      <td>10.000000</td>\n",
       "      <td>4.130000</td>\n",
       "      <td>16791.000000</td>\n",
       "    </tr>\n",
       "    <tr>\n",
       "      <th>max</th>\n",
       "      <td>80995.000000</td>\n",
       "      <td>38970.000000</td>\n",
       "      <td>18287.000000</td>\n",
       "    </tr>\n",
       "  </tbody>\n",
       "</table>\n",
       "</div>"
      ],
      "text/plain": [
       "            Quantity      UnitPrice     CustomerID\n",
       "count  541909.000000  541909.000000  406829.000000\n",
       "mean        9.552250       4.611114   15287.690570\n",
       "std       218.081158      96.759853    1713.600303\n",
       "min    -80995.000000  -11062.060000   12346.000000\n",
       "25%         1.000000       1.250000   13953.000000\n",
       "50%         3.000000       2.080000   15152.000000\n",
       "75%        10.000000       4.130000   16791.000000\n",
       "max     80995.000000   38970.000000   18287.000000"
      ]
     },
     "execution_count": 11,
     "metadata": {},
     "output_type": "execute_result"
    }
   ],
   "source": [
    "#Просмотрим основные хараектеристики датасета\n",
    "data.describe()"
   ]
  },
  {
   "cell_type": "markdown",
   "id": "aaac057b",
   "metadata": {},
   "source": [
    "**Важно заметить, что для столбца UnitPrice наблюдаются очень большие отрицательные значения, что явно является выбросом. Также для столбца Quantity наблюдаются аномальные выбросы с минимальным значением в -80000 и максимальным 80000. Данные значения стоит отбросить, поскольку они будут очень сильно искажать наши данные.**"
   ]
  },
  {
   "cell_type": "code",
   "execution_count": 12,
   "id": "2ed5cbc2",
   "metadata": {},
   "outputs": [
    {
     "name": "stdout",
     "output_type": "stream",
     "text": [
      "------------------------------- SHAPE --------------------------------\n",
      "Rows: 541909\n",
      "Columns: 8\n",
      "------------------------------- TYPES --------------------------------\n",
      "InvoiceNo       object\n",
      "StockCode       object\n",
      "Description     object\n",
      "Quantity         int64\n",
      "InvoiceDate     object\n",
      "UnitPrice      float64\n",
      "CustomerID     float64\n",
      "Country         object\n",
      "dtype: object\n",
      "-------------------------------- HEAD --------------------------------\n",
      "  InvoiceNo StockCode                          Description  Quantity  \\\n",
      "0    536365    85123A   WHITE HANGING HEART T-LIGHT HOLDER         6   \n",
      "1    536365     71053                  WHITE METAL LANTERN         6   \n",
      "2    536365    84406B       CREAM CUPID HEARTS COAT HANGER         8   \n",
      "3    536365    84029G  KNITTED UNION FLAG HOT WATER BOTTLE         6   \n",
      "4    536365    84029E       RED WOOLLY HOTTIE WHITE HEART.         6   \n",
      "\n",
      "      InvoiceDate  UnitPrice  CustomerID         Country  \n",
      "0  12/1/2010 8:26       2.55     17850.0  United Kingdom  \n",
      "1  12/1/2010 8:26       3.39     17850.0  United Kingdom  \n",
      "2  12/1/2010 8:26       2.75     17850.0  United Kingdom  \n",
      "3  12/1/2010 8:26       3.39     17850.0  United Kingdom  \n",
      "4  12/1/2010 8:26       3.39     17850.0  United Kingdom  \n",
      "-------------------------------- TAIL --------------------------------\n",
      "       InvoiceNo StockCode                      Description  Quantity  \\\n",
      "541904    581587     22613      PACK OF 20 SPACEBOY NAPKINS        12   \n",
      "541905    581587     22899     CHILDREN'S APRON DOLLY GIRL          6   \n",
      "541906    581587     23254    CHILDRENS CUTLERY DOLLY GIRL          4   \n",
      "541907    581587     23255  CHILDRENS CUTLERY CIRCUS PARADE         4   \n",
      "541908    581587     22138    BAKING SET 9 PIECE RETROSPOT          3   \n",
      "\n",
      "            InvoiceDate  UnitPrice  CustomerID Country  \n",
      "541904  12/9/2011 12:50       0.85     12680.0  France  \n",
      "541905  12/9/2011 12:50       2.10     12680.0  France  \n",
      "541906  12/9/2011 12:50       4.15     12680.0  France  \n",
      "541907  12/9/2011 12:50       4.15     12680.0  France  \n",
      "541908  12/9/2011 12:50       4.95     12680.0  France  \n",
      "--------------------------- MISSING VALUES ---------------------------\n",
      "InvoiceNo           0\n",
      "StockCode           0\n",
      "Description      1454\n",
      "Quantity            0\n",
      "InvoiceDate         0\n",
      "UnitPrice           0\n",
      "CustomerID     135080\n",
      "Country             0\n",
      "dtype: int64\n",
      "------------------------- DUPLICATED VALUES --------------------------\n",
      "5268\n",
      "----------------------------- QUANTILES ------------------------------\n",
      "                0.00      0.05      0.50      0.95     0.99     1.00\n",
      "Quantity   -80995.00      1.00      3.00     29.00    100.0  80995.0\n",
      "UnitPrice  -11062.06      0.42      2.08      9.95     18.0  38970.0\n",
      "CustomerID  12346.00  12626.00  15152.00  17905.00  18212.0  18287.0\n"
     ]
    },
    {
     "name": "stderr",
     "output_type": "stream",
     "text": [
      "/var/folders/4l/7yb4w59x1k3bhq8mbgbzjry00000gn/T/ipykernel_58208/2683468922.py:17: FutureWarning:\n",
      "\n",
      "The default value of numeric_only in DataFrame.quantile is deprecated. In a future version, it will default to False. Select only valid columns or specify the value of numeric_only to silence this warning.\n",
      "\n"
     ]
    }
   ],
   "source": [
    "#Резюмируем общую информацию о нашем датасете\n",
    "def check_data(dataframe, head=5):\n",
    "    print(\" SHAPE \".center(70,'-'))\n",
    "    print('Rows: {}'.format(dataframe.shape[0]))\n",
    "    print('Columns: {}'.format(dataframe.shape[1]))\n",
    "    print(\" TYPES \".center(70,'-'))\n",
    "    print(dataframe.dtypes)\n",
    "    print(\" HEAD \".center(70,'-'))\n",
    "    print(dataframe.head(head))\n",
    "    print(\" TAIL \".center(70,'-'))\n",
    "    print(dataframe.tail(head))\n",
    "    print(\" MISSING VALUES \".center(70,'-'))\n",
    "    print(dataframe.isnull().sum())\n",
    "    print(\" DUPLICATED VALUES \".center(70,'-'))\n",
    "    print(dataframe.duplicated().sum())\n",
    "    print(\" QUANTILES \".center(70,'-'))\n",
    "    print(dataframe.quantile([0, 0.05, 0.50, 0.95, 0.99, 1]).T)\n",
    "    \n",
    "check_data(data)"
   ]
  },
  {
   "cell_type": "markdown",
   "id": "d42e17a5",
   "metadata": {},
   "source": [
    "# Предобработка данных"
   ]
  },
  {
   "cell_type": "code",
   "execution_count": 13,
   "id": "24c5080c",
   "metadata": {},
   "outputs": [
    {
     "data": {
      "text/plain": [
       "(541909, 8)"
      ]
     },
     "execution_count": 13,
     "metadata": {},
     "output_type": "execute_result"
    }
   ],
   "source": [
    "#Поставим изначальный размер строк, чтобы после предобработки определить, какой объём данных мы почистили\n",
    "data.shape"
   ]
  },
  {
   "cell_type": "code",
   "execution_count": 14,
   "id": "b190961d",
   "metadata": {},
   "outputs": [],
   "source": [
    "#С помощью запроса избавимся от отрицательных значнений в столбцах Quantity и UnitPrice\n",
    "data = data.query('Quantity > 0 and UnitPrice > 0')"
   ]
  },
  {
   "cell_type": "code",
   "execution_count": 15,
   "id": "698e30ca",
   "metadata": {},
   "outputs": [],
   "source": [
    "#Также избавимся от очень высокий значений в этих столбцах\n",
    "data = data.query('Quantity < 10000 and UnitPrice < 38970')"
   ]
  },
  {
   "cell_type": "code",
   "execution_count": 16,
   "id": "d67c2d1c",
   "metadata": {},
   "outputs": [
    {
     "data": {
      "text/plain": [
       "5226"
      ]
     },
     "execution_count": 16,
     "metadata": {},
     "output_type": "execute_result"
    }
   ],
   "source": [
    "#Проверим дубликаты в данных\n",
    "data.duplicated().sum()"
   ]
  },
  {
   "cell_type": "code",
   "execution_count": 17,
   "id": "cc2f1207",
   "metadata": {},
   "outputs": [],
   "source": [
    "#Применяем метод сброса дубликатов\n",
    "data.drop_duplicates(inplace=True)"
   ]
  },
  {
   "cell_type": "code",
   "execution_count": 18,
   "id": "3ced6c5e",
   "metadata": {},
   "outputs": [
    {
     "data": {
      "text/plain": [
       "0"
      ]
     },
     "execution_count": 18,
     "metadata": {},
     "output_type": "execute_result"
    }
   ],
   "source": [
    "#Все дубликаты почищены\n",
    "data.duplicated().sum()"
   ]
  },
  {
   "cell_type": "code",
   "execution_count": 19,
   "id": "45eeee42",
   "metadata": {},
   "outputs": [
    {
     "data": {
      "text/plain": [
       "InvoiceNo           0\n",
       "StockCode           0\n",
       "Description         0\n",
       "Quantity            0\n",
       "InvoiceDate         0\n",
       "UnitPrice           0\n",
       "CustomerID     132186\n",
       "Country             0\n",
       "dtype: int64"
      ]
     },
     "execution_count": 19,
     "metadata": {},
     "output_type": "execute_result"
    }
   ],
   "source": [
    "#Проверим пропуски в нашем датасете\n",
    "data.isna().sum()"
   ]
  },
  {
   "cell_type": "markdown",
   "id": "8c85d80a",
   "metadata": {},
   "source": [
    "**При анализе пропусков в датасете важно отметить, что 25% записей имеют пропущенные значения в столбце с уникальным ID пользователя. При наличии данных невозможно условно исчислять величины для пользователя, и поэтому эти позиции бесполезны для текущей работы. К сожалению придётся избавиться от значительной части данных.**"
   ]
  },
  {
   "cell_type": "code",
   "execution_count": 20,
   "id": "74af6600",
   "metadata": {},
   "outputs": [],
   "source": [
    "# Удаляем пропуски в столбце с CustomerID\n",
    "data.dropna(subset=['CustomerID'], inplace=True)"
   ]
  },
  {
   "cell_type": "code",
   "execution_count": 21,
   "id": "0068ad7f",
   "metadata": {},
   "outputs": [
    {
     "data": {
      "text/plain": [
       "InvoiceNo      0\n",
       "StockCode      0\n",
       "Description    0\n",
       "Quantity       0\n",
       "InvoiceDate    0\n",
       "UnitPrice      0\n",
       "CustomerID     0\n",
       "Country        0\n",
       "dtype: int64"
      ]
     },
     "execution_count": 21,
     "metadata": {},
     "output_type": "execute_result"
    }
   ],
   "source": [
    "#Проверяем что пропуски действительно удалились\n",
    "data.isna().sum()"
   ]
  },
  {
   "cell_type": "code",
   "execution_count": 22,
   "id": "ad74a8c5",
   "metadata": {},
   "outputs": [],
   "source": [
    "#Переводим столбце с датой транзакции из типа со строковыми значениями в тип Datetime64\n",
    "data['InvoiceDate'] = pd.to_datetime(data['InvoiceDate'])"
   ]
  },
  {
   "cell_type": "code",
   "execution_count": 23,
   "id": "7b685e92",
   "metadata": {},
   "outputs": [],
   "source": [
    "#Также перевдём столбец с ID пользователя из типа с плавающей точкой в тип с целочисленными данными\n",
    "data = data.astype({'CustomerID' : 'int'})"
   ]
  },
  {
   "cell_type": "code",
   "execution_count": 24,
   "id": "a32b0832",
   "metadata": {},
   "outputs": [
    {
     "name": "stdout",
     "output_type": "stream",
     "text": [
      "<class 'pandas.core.frame.DataFrame'>\n",
      "Int64Index: 392690 entries, 0 to 541908\n",
      "Data columns (total 8 columns):\n",
      " #   Column       Non-Null Count   Dtype         \n",
      "---  ------       --------------   -----         \n",
      " 0   InvoiceNo    392690 non-null  object        \n",
      " 1   StockCode    392690 non-null  object        \n",
      " 2   Description  392690 non-null  object        \n",
      " 3   Quantity     392690 non-null  int64         \n",
      " 4   InvoiceDate  392690 non-null  datetime64[ns]\n",
      " 5   UnitPrice    392690 non-null  float64       \n",
      " 6   CustomerID   392690 non-null  int64         \n",
      " 7   Country      392690 non-null  object        \n",
      "dtypes: datetime64[ns](1), float64(1), int64(2), object(4)\n",
      "memory usage: 27.0+ MB\n"
     ]
    }
   ],
   "source": [
    "data.info()"
   ]
  },
  {
   "cell_type": "code",
   "execution_count": 25,
   "id": "00daa72b",
   "metadata": {},
   "outputs": [
    {
     "data": {
      "text/plain": [
       "0.7246419601815065"
      ]
     },
     "execution_count": 25,
     "metadata": {},
     "output_type": "execute_result"
    }
   ],
   "source": [
    "392690 / 541909"
   ]
  },
  {
   "cell_type": "markdown",
   "id": "8b26e79d",
   "metadata": {},
   "source": [
    "Потеряли около 27% данных в ходе предобработки, что является очень большим процентом, в случае с CustomerID, который содержал в себе 25% данных, оставлять эти значения было бы бессмысленно, поскольку мы не можем не обладаем достаточной информацией, каким образом их заполнять."
   ]
  },
  {
   "cell_type": "markdown",
   "id": "dcb6b95f",
   "metadata": {},
   "source": [
    "### Промежуточный вывод\n",
    "\n",
    "\n",
    "* Изменили столбцы на необходимые типы данных.\n",
    "\n",
    "* Избавились от аномальных значений, почистили дубликаты и пропущенные значения, но к сожалению пожертвовали 27% данных, но зато теперь мы имеем очищенные данные, c которыми уже можно проводить дальнейший исследовательский анализ данных.\n",
    "\n"
   ]
  },
  {
   "cell_type": "markdown",
   "id": "d2106795",
   "metadata": {},
   "source": [
    "# Исследовательский анализ данных (EDA)"
   ]
  },
  {
   "cell_type": "code",
   "execution_count": 26,
   "id": "24afd7c9",
   "metadata": {},
   "outputs": [
    {
     "data": {
      "text/html": [
       "<div>\n",
       "<style scoped>\n",
       "    .dataframe tbody tr th:only-of-type {\n",
       "        vertical-align: middle;\n",
       "    }\n",
       "\n",
       "    .dataframe tbody tr th {\n",
       "        vertical-align: top;\n",
       "    }\n",
       "\n",
       "    .dataframe thead th {\n",
       "        text-align: right;\n",
       "    }\n",
       "</style>\n",
       "<table border=\"1\" class=\"dataframe\">\n",
       "  <thead>\n",
       "    <tr style=\"text-align: right;\">\n",
       "      <th></th>\n",
       "      <th>InvoiceNo</th>\n",
       "      <th>StockCode</th>\n",
       "      <th>Description</th>\n",
       "      <th>Quantity</th>\n",
       "      <th>InvoiceDate</th>\n",
       "      <th>UnitPrice</th>\n",
       "      <th>CustomerID</th>\n",
       "      <th>Country</th>\n",
       "    </tr>\n",
       "  </thead>\n",
       "  <tbody>\n",
       "    <tr>\n",
       "      <th>0</th>\n",
       "      <td>536365</td>\n",
       "      <td>85123A</td>\n",
       "      <td>WHITE HANGING HEART T-LIGHT HOLDER</td>\n",
       "      <td>6</td>\n",
       "      <td>2010-12-01 08:26:00</td>\n",
       "      <td>2.55</td>\n",
       "      <td>17850</td>\n",
       "      <td>United Kingdom</td>\n",
       "    </tr>\n",
       "    <tr>\n",
       "      <th>1</th>\n",
       "      <td>536365</td>\n",
       "      <td>71053</td>\n",
       "      <td>WHITE METAL LANTERN</td>\n",
       "      <td>6</td>\n",
       "      <td>2010-12-01 08:26:00</td>\n",
       "      <td>3.39</td>\n",
       "      <td>17850</td>\n",
       "      <td>United Kingdom</td>\n",
       "    </tr>\n",
       "    <tr>\n",
       "      <th>2</th>\n",
       "      <td>536365</td>\n",
       "      <td>84406B</td>\n",
       "      <td>CREAM CUPID HEARTS COAT HANGER</td>\n",
       "      <td>8</td>\n",
       "      <td>2010-12-01 08:26:00</td>\n",
       "      <td>2.75</td>\n",
       "      <td>17850</td>\n",
       "      <td>United Kingdom</td>\n",
       "    </tr>\n",
       "    <tr>\n",
       "      <th>3</th>\n",
       "      <td>536365</td>\n",
       "      <td>84029G</td>\n",
       "      <td>KNITTED UNION FLAG HOT WATER BOTTLE</td>\n",
       "      <td>6</td>\n",
       "      <td>2010-12-01 08:26:00</td>\n",
       "      <td>3.39</td>\n",
       "      <td>17850</td>\n",
       "      <td>United Kingdom</td>\n",
       "    </tr>\n",
       "    <tr>\n",
       "      <th>4</th>\n",
       "      <td>536365</td>\n",
       "      <td>84029E</td>\n",
       "      <td>RED WOOLLY HOTTIE WHITE HEART.</td>\n",
       "      <td>6</td>\n",
       "      <td>2010-12-01 08:26:00</td>\n",
       "      <td>3.39</td>\n",
       "      <td>17850</td>\n",
       "      <td>United Kingdom</td>\n",
       "    </tr>\n",
       "  </tbody>\n",
       "</table>\n",
       "</div>"
      ],
      "text/plain": [
       "  InvoiceNo StockCode                          Description  Quantity  \\\n",
       "0    536365    85123A   WHITE HANGING HEART T-LIGHT HOLDER         6   \n",
       "1    536365     71053                  WHITE METAL LANTERN         6   \n",
       "2    536365    84406B       CREAM CUPID HEARTS COAT HANGER         8   \n",
       "3    536365    84029G  KNITTED UNION FLAG HOT WATER BOTTLE         6   \n",
       "4    536365    84029E       RED WOOLLY HOTTIE WHITE HEART.         6   \n",
       "\n",
       "          InvoiceDate  UnitPrice  CustomerID         Country  \n",
       "0 2010-12-01 08:26:00       2.55       17850  United Kingdom  \n",
       "1 2010-12-01 08:26:00       3.39       17850  United Kingdom  \n",
       "2 2010-12-01 08:26:00       2.75       17850  United Kingdom  \n",
       "3 2010-12-01 08:26:00       3.39       17850  United Kingdom  \n",
       "4 2010-12-01 08:26:00       3.39       17850  United Kingdom  "
      ]
     },
     "execution_count": 26,
     "metadata": {},
     "output_type": "execute_result"
    }
   ],
   "source": [
    "data.head()"
   ]
  },
  {
   "cell_type": "code",
   "execution_count": 27,
   "id": "63ea7449",
   "metadata": {},
   "outputs": [],
   "source": [
    "#Сгруппируем наши данные по странам и посчитаем общую сумму покупок\n",
    "data_country_sales = data.groupby('Country')['UnitPrice'].sum().sort_values(ascending=False).head(10)"
   ]
  },
  {
   "cell_type": "code",
   "execution_count": 28,
   "id": "0e467ce2",
   "metadata": {},
   "outputs": [
    {
     "data": {
      "text/plain": [
       "Country\n",
       "United Kingdom    1037942.744\n",
       "France              36788.980\n",
       "Germany             33499.580\n",
       "EIRE                32134.960\n",
       "Singapore           12949.990\n",
       "Spain                9492.390\n",
       "Portugal             8636.430\n",
       "Belgium              7372.850\n",
       "Switzerland          6389.270\n",
       "Netherlands          6247.730\n",
       "Name: UnitPrice, dtype: float64"
      ]
     },
     "execution_count": 28,
     "metadata": {},
     "output_type": "execute_result"
    }
   ],
   "source": [
    "data_country_sales"
   ]
  },
  {
   "cell_type": "markdown",
   "id": "968c9166",
   "metadata": {},
   "source": [
    "**Можем убедиться, что целевой аудиторией интернет-магазина являются пользователи из Великобритании, которые осуществили покупку на сумму более 1 миллиона стерлингов, ближайшей к ней является Франция, и всего лишь ~ 37000 стерлингов.**\n"
   ]
  },
  {
   "cell_type": "code",
   "execution_count": 29,
   "id": "dca12305",
   "metadata": {},
   "outputs": [
    {
     "data": {
      "text/plain": [
       "Timestamp('2010-12-01 08:26:00')"
      ]
     },
     "execution_count": 29,
     "metadata": {},
     "output_type": "execute_result"
    }
   ],
   "source": [
    "data.InvoiceDate.min()\n"
   ]
  },
  {
   "cell_type": "code",
   "execution_count": 30,
   "id": "147dc5d2",
   "metadata": {},
   "outputs": [
    {
     "data": {
      "text/plain": [
       "Timestamp('2011-12-09 12:50:00')"
      ]
     },
     "execution_count": 30,
     "metadata": {},
     "output_type": "execute_result"
    }
   ],
   "source": [
    "data.InvoiceDate.max()"
   ]
  },
  {
   "cell_type": "markdown",
   "id": "05032caa",
   "metadata": {},
   "source": [
    "**Убедились, что даты всех транзакций проходят в период с 2010-12-01 по 2011-12-09**"
   ]
  },
  {
   "cell_type": "code",
   "execution_count": 31,
   "id": "12dad7d1",
   "metadata": {},
   "outputs": [
    {
     "data": {
      "text/html": [
       "<div>\n",
       "<style scoped>\n",
       "    .dataframe tbody tr th:only-of-type {\n",
       "        vertical-align: middle;\n",
       "    }\n",
       "\n",
       "    .dataframe tbody tr th {\n",
       "        vertical-align: top;\n",
       "    }\n",
       "\n",
       "    .dataframe thead th {\n",
       "        text-align: right;\n",
       "    }\n",
       "</style>\n",
       "<table border=\"1\" class=\"dataframe\">\n",
       "  <thead>\n",
       "    <tr style=\"text-align: right;\">\n",
       "      <th></th>\n",
       "      <th>Country</th>\n",
       "      <th>CustomerID</th>\n",
       "    </tr>\n",
       "  </thead>\n",
       "  <tbody>\n",
       "    <tr>\n",
       "      <th>35</th>\n",
       "      <td>United Kingdom</td>\n",
       "      <td>349201</td>\n",
       "    </tr>\n",
       "    <tr>\n",
       "      <th>14</th>\n",
       "      <td>Germany</td>\n",
       "      <td>9025</td>\n",
       "    </tr>\n",
       "    <tr>\n",
       "      <th>13</th>\n",
       "      <td>France</td>\n",
       "      <td>8326</td>\n",
       "    </tr>\n",
       "    <tr>\n",
       "      <th>10</th>\n",
       "      <td>EIRE</td>\n",
       "      <td>7226</td>\n",
       "    </tr>\n",
       "    <tr>\n",
       "      <th>30</th>\n",
       "      <td>Spain</td>\n",
       "      <td>2479</td>\n",
       "    </tr>\n",
       "    <tr>\n",
       "      <th>23</th>\n",
       "      <td>Netherlands</td>\n",
       "      <td>2359</td>\n",
       "    </tr>\n",
       "    <tr>\n",
       "      <th>3</th>\n",
       "      <td>Belgium</td>\n",
       "      <td>2031</td>\n",
       "    </tr>\n",
       "    <tr>\n",
       "      <th>32</th>\n",
       "      <td>Switzerland</td>\n",
       "      <td>1841</td>\n",
       "    </tr>\n",
       "    <tr>\n",
       "      <th>26</th>\n",
       "      <td>Portugal</td>\n",
       "      <td>1453</td>\n",
       "    </tr>\n",
       "    <tr>\n",
       "      <th>0</th>\n",
       "      <td>Australia</td>\n",
       "      <td>1181</td>\n",
       "    </tr>\n",
       "    <tr>\n",
       "      <th>24</th>\n",
       "      <td>Norway</td>\n",
       "      <td>1071</td>\n",
       "    </tr>\n",
       "    <tr>\n",
       "      <th>18</th>\n",
       "      <td>Italy</td>\n",
       "      <td>758</td>\n",
       "    </tr>\n",
       "    <tr>\n",
       "      <th>6</th>\n",
       "      <td>Channel Islands</td>\n",
       "      <td>747</td>\n",
       "    </tr>\n",
       "    <tr>\n",
       "      <th>12</th>\n",
       "      <td>Finland</td>\n",
       "      <td>685</td>\n",
       "    </tr>\n",
       "    <tr>\n",
       "      <th>7</th>\n",
       "      <td>Cyprus</td>\n",
       "      <td>603</td>\n",
       "    </tr>\n",
       "  </tbody>\n",
       "</table>\n",
       "</div>"
      ],
      "text/plain": [
       "            Country  CustomerID\n",
       "35   United Kingdom      349201\n",
       "14          Germany        9025\n",
       "13           France        8326\n",
       "10             EIRE        7226\n",
       "30            Spain        2479\n",
       "23      Netherlands        2359\n",
       "3           Belgium        2031\n",
       "32      Switzerland        1841\n",
       "26         Portugal        1453\n",
       "0         Australia        1181\n",
       "24           Norway        1071\n",
       "18            Italy         758\n",
       "6   Channel Islands         747\n",
       "12          Finland         685\n",
       "7            Cyprus         603"
      ]
     },
     "execution_count": 31,
     "metadata": {},
     "output_type": "execute_result"
    }
   ],
   "source": [
    "#Посчитаем колличество транзакций\n",
    "data.groupby('Country', as_index=False).agg({'CustomerID':'count'}).sort_values('CustomerID', ascending=False).head(15)\n"
   ]
  },
  {
   "cell_type": "code",
   "execution_count": 32,
   "id": "7f1cf816",
   "metadata": {},
   "outputs": [
    {
     "data": {
      "text/html": [
       "<div>\n",
       "<style scoped>\n",
       "    .dataframe tbody tr th:only-of-type {\n",
       "        vertical-align: middle;\n",
       "    }\n",
       "\n",
       "    .dataframe tbody tr th {\n",
       "        vertical-align: top;\n",
       "    }\n",
       "\n",
       "    .dataframe thead th {\n",
       "        text-align: right;\n",
       "    }\n",
       "</style>\n",
       "<table border=\"1\" class=\"dataframe\">\n",
       "  <thead>\n",
       "    <tr style=\"text-align: right;\">\n",
       "      <th></th>\n",
       "      <th>Country</th>\n",
       "      <th>CustomerID</th>\n",
       "    </tr>\n",
       "  </thead>\n",
       "  <tbody>\n",
       "    <tr>\n",
       "      <th>35</th>\n",
       "      <td>United Kingdom</td>\n",
       "      <td>3919</td>\n",
       "    </tr>\n",
       "    <tr>\n",
       "      <th>14</th>\n",
       "      <td>Germany</td>\n",
       "      <td>94</td>\n",
       "    </tr>\n",
       "    <tr>\n",
       "      <th>13</th>\n",
       "      <td>France</td>\n",
       "      <td>87</td>\n",
       "    </tr>\n",
       "    <tr>\n",
       "      <th>30</th>\n",
       "      <td>Spain</td>\n",
       "      <td>30</td>\n",
       "    </tr>\n",
       "    <tr>\n",
       "      <th>3</th>\n",
       "      <td>Belgium</td>\n",
       "      <td>25</td>\n",
       "    </tr>\n",
       "    <tr>\n",
       "      <th>32</th>\n",
       "      <td>Switzerland</td>\n",
       "      <td>21</td>\n",
       "    </tr>\n",
       "    <tr>\n",
       "      <th>26</th>\n",
       "      <td>Portugal</td>\n",
       "      <td>19</td>\n",
       "    </tr>\n",
       "    <tr>\n",
       "      <th>18</th>\n",
       "      <td>Italy</td>\n",
       "      <td>14</td>\n",
       "    </tr>\n",
       "    <tr>\n",
       "      <th>12</th>\n",
       "      <td>Finland</td>\n",
       "      <td>12</td>\n",
       "    </tr>\n",
       "    <tr>\n",
       "      <th>1</th>\n",
       "      <td>Austria</td>\n",
       "      <td>11</td>\n",
       "    </tr>\n",
       "    <tr>\n",
       "      <th>24</th>\n",
       "      <td>Norway</td>\n",
       "      <td>10</td>\n",
       "    </tr>\n",
       "    <tr>\n",
       "      <th>23</th>\n",
       "      <td>Netherlands</td>\n",
       "      <td>9</td>\n",
       "    </tr>\n",
       "    <tr>\n",
       "      <th>0</th>\n",
       "      <td>Australia</td>\n",
       "      <td>9</td>\n",
       "    </tr>\n",
       "    <tr>\n",
       "      <th>9</th>\n",
       "      <td>Denmark</td>\n",
       "      <td>9</td>\n",
       "    </tr>\n",
       "    <tr>\n",
       "      <th>6</th>\n",
       "      <td>Channel Islands</td>\n",
       "      <td>9</td>\n",
       "    </tr>\n",
       "  </tbody>\n",
       "</table>\n",
       "</div>"
      ],
      "text/plain": [
       "            Country  CustomerID\n",
       "35   United Kingdom        3919\n",
       "14          Germany          94\n",
       "13           France          87\n",
       "30            Spain          30\n",
       "3           Belgium          25\n",
       "32      Switzerland          21\n",
       "26         Portugal          19\n",
       "18            Italy          14\n",
       "12          Finland          12\n",
       "1           Austria          11\n",
       "24           Norway          10\n",
       "23      Netherlands           9\n",
       "0         Australia           9\n",
       "9           Denmark           9\n",
       "6   Channel Islands           9"
      ]
     },
     "execution_count": 32,
     "metadata": {},
     "output_type": "execute_result"
    }
   ],
   "source": [
    "#Посчитаем уникальное колличество пользователей, которые осуществили транзакции\n",
    "data[data['CustomerID'] > 0].groupby('Country', as_index=False).agg({'CustomerID': pd.Series.nunique}).sort_values('CustomerID', ascending=False).head(15)"
   ]
  },
  {
   "cell_type": "code",
   "execution_count": 33,
   "id": "423e9587",
   "metadata": {},
   "outputs": [
    {
     "data": {
      "image/png": "[encoded data removed]",
      "text/plain": [
       "<Figure size 640x480 with 1 Axes>"
      ]
     },
     "metadata": {},
     "output_type": "display_data"
    }
   ],
   "source": [
    "# Построим график, который отображает тенденцию транзакций по годам\n",
    "data['InvoiceDate'] = pd.to_datetime(data['InvoiceDate'])\n",
    "data['Date'] = data['InvoiceDate'].dt.date\n",
    "daily_transactions = data.groupby('Date').size()\n",
    "\n",
    "plt.plot(daily_transactions, color='blue')\n",
    "plt.xlabel('Дата')\n",
    "plt.ylabel('Количество транзакций')\n",
    "plt.title('График транзакций за весь период')\n",
    "plt.xticks(rotation=45)\n",
    "plt.tight_layout()\n",
    "plt.show()"
   ]
  },
  {
   "cell_type": "markdown",
   "id": "018b567a",
   "metadata": {},
   "source": [
    "**Исходя из графика, можем заметить прирост по количеству транзакций на месяц сентябрь, c последующим ростом до конца до декабря.**"
   ]
  },
  {
   "cell_type": "code",
   "execution_count": 34,
   "id": "1061a152",
   "metadata": {},
   "outputs": [
    {
     "data": {
      "image/png": "[encoded data removed]",
      "text/plain": [
       "<Figure size 640x480 with 1 Axes>"
      ]
     },
     "metadata": {},
     "output_type": "display_data"
    }
   ],
   "source": [
    "# Получим столбчатую диаграмму с ТОП-10 складскими кодами по частоте транзакций.\n",
    "stock_counts = data['StockCode'].value_counts().head(10)\n",
    "plt.bar(stock_counts.index, stock_counts.values, color='orange')\n",
    "plt.xlabel('Складской код')\n",
    "plt.ylabel('Frequency')\n",
    "plt.title('Топ 10 складских кодов по заказам')\n",
    "plt.xticks(rotation=45)\n",
    "plt.show()\n"
   ]
  },
  {
   "cell_type": "code",
   "execution_count": 35,
   "id": "0328f186",
   "metadata": {},
   "outputs": [],
   "source": [
    "#Узнаем описание товаров которые вошли в ТОП-10 по транзакциям за всё время.\n",
    "stock_description_count = data[['StockCode', 'Description']].value_counts().head(10)"
   ]
  },
  {
   "cell_type": "code",
   "execution_count": 36,
   "id": "88867bc9",
   "metadata": {},
   "outputs": [
    {
     "data": {
      "text/plain": [
       "StockCode  Description                       \n",
       "85123A     WHITE HANGING HEART T-LIGHT HOLDER    2016\n",
       "22423      REGENCY CAKESTAND 3 TIER              1713\n",
       "85099B     JUMBO BAG RED RETROSPOT               1615\n",
       "84879      ASSORTED COLOUR BIRD ORNAMENT         1395\n",
       "47566      PARTY BUNTING                         1389\n",
       "20725      LUNCH BAG RED RETROSPOT               1303\n",
       "22720      SET OF 3 CAKE TINS PANTRY DESIGN      1152\n",
       "POST       POSTAGE                               1099\n",
       "20727      LUNCH BAG  BLACK SKULL.               1078\n",
       "21212      PACK OF 72 RETROSPOT CAKE CASES       1050\n",
       "dtype: int64"
      ]
     },
     "execution_count": 36,
     "metadata": {},
     "output_type": "execute_result"
    }
   ],
   "source": [
    "stock_description_count"
   ]
  },
  {
   "cell_type": "markdown",
   "id": "54953907",
   "metadata": {},
   "source": [
    "\n",
    "\n",
    "**В ТОП по продажам вошли:**\n",
    "\n",
    "1.`БЕЛЫЙ ПОДВЕСНОЙ ДЕРЖАТЕЛЬ T-LIGHT В ВИДЕ СЕРДЦА`\n",
    "\n",
    "2.`ПОДСТАВКА ДЛЯ ТОРТА REGENCY 3 УРОВНЯ`\n",
    "\n",
    "3.`ДЖАМБО СУМКА КРАСНАЯ РЕТРОСПОТ`\n",
    "\n",
    "4.`ОРНАМЕНТ ДЛЯ ПТИЦ РАЗНОГО ЦВЕТА`\n",
    "\n",
    "5.`РУЧКА ДЛЯ ВЕЧЕРИНКИ`\n",
    "\n",
    "6.`СУМКА ДЛЯ ОБЕДА RED RETROSPOT`\n",
    "\n",
    "7.`НАБОР ИЗ 3 ФОРМ ДЛЯ ТОРТА ДИЗАЙН КЛАДОВОЙ`\n",
    "\n",
    "8.`ПОЧТОВАЯ ОПЛАТА`\n",
    "\n",
    "9.`СУМКА ДЛЯ ЛАНЧА С ЧЕРНЫМ ЧЕРЕПОМ.`\n",
    "\n",
    "10.`УПАКОВКА ИЗ 72 ЯЩИКОВ ДЛЯ ТОРТА RETROSPOT.`"
   ]
  },
  {
   "cell_type": "code",
   "execution_count": 37,
   "id": "5c7288b4",
   "metadata": {},
   "outputs": [
    {
     "name": "stdout",
     "output_type": "stream",
     "text": [
      "ТОП-10 пользователей:\n",
      "CustomerID\n",
      "17841    7676\n",
      "14911    5670\n",
      "14096    5111\n",
      "12748    4412\n",
      "14606    2677\n",
      "15311    2366\n",
      "14646    2076\n",
      "13089    1814\n",
      "13263    1667\n",
      "14298    1637\n",
      "dtype: int64\n"
     ]
    },
    {
     "data": {
      "image/png": "[encoded data removed]",
      "text/plain": [
       "<Figure size 1000x600 with 1 Axes>"
      ]
     },
     "metadata": {},
     "output_type": "display_data"
    }
   ],
   "source": [
    "# Узнаем сколько транзакций осуществили пользователи и узнаем их страну\n",
    "top_users = data.groupby('CustomerID').size().nlargest(10)\n",
    "\n",
    "# Вывод ТОП-10 пользователей\n",
    "print(\"ТОП-10 пользователей:\")\n",
    "print(top_users)\n",
    "\n",
    "# Получение страны каждого пользователя\n",
    "top_users_country = data[data['CustomerID'].isin(top_users.index)]['Country']\n",
    "\n",
    "# Построение графика распределения стран для ТОП-10 пользователей\n",
    "plt.figure(figsize=(10, 6))\n",
    "top_users_country.value_counts().plot(kind='bar', color='skyblue')\n",
    "plt.xlabel('Страна')\n",
    "plt.ylabel('Количество транзакций')\n",
    "plt.title('ТОП стран по количеству транзакиций')\n",
    "plt.xticks(rotation=45)\n",
    "plt.show()"
   ]
  },
  {
   "cell_type": "code",
   "execution_count": 38,
   "id": "b2c82116",
   "metadata": {},
   "outputs": [
    {
     "name": "stdout",
     "output_type": "stream",
     "text": [
      "Общее количество купленных товаров для ТОП-10 пользователей:\n",
      "CustomerID\n",
      "14646    196915\n",
      "14911     80240\n",
      "12415     77374\n",
      "17450     69973\n",
      "17511     64549\n",
      "18102     64124\n",
      "13694     63312\n",
      "14298     58343\n",
      "14156     57768\n",
      "16684     50255\n",
      "Name: Quantity, dtype: int64\n"
     ]
    }
   ],
   "source": [
    "# Группировка данных по CustomerID и подсчет общего количества купленных товаров для каждого пользователя\n",
    "total_quantity_top_users = data.groupby('CustomerID')['Quantity'].sum().sort_values(ascending=False).head(10)\n",
    "\n",
    "# Выбор ТОП-10 пользователей\n",
    "top_10_users = total_quantity_top_users.nlargest(10)\n",
    "\n",
    "# Вывод общего количества купленных товаров для ТОП-10 пользователей\n",
    "print(\"Общее количество купленных товаров для ТОП-10 пользователей:\")\n",
    "print(top_10_users)"
   ]
  },
  {
   "cell_type": "code",
   "execution_count": 39,
   "id": "ffa24bb3",
   "metadata": {},
   "outputs": [
    {
     "data": {
      "image/png": "[encoded data removed]",
      "text/plain": [
       "<Figure size 1000x600 with 1 Axes>"
      ]
     },
     "metadata": {},
     "output_type": "display_data"
    }
   ],
   "source": [
    "# ТОП пользователей по количеству купленных товаров\n",
    "plt.figure(figsize=(10, 6))\n",
    "total_quantity_top_users.plot(kind='bar', color='skyblue')\n",
    "plt.xlabel('CustomerID')\n",
    "plt.ylabel('Общее количество купленных товаров')\n",
    "plt.title('Общее количество купленных товаров лучшими пользователями')\n",
    "plt.xticks(rotation=45)\n",
    "plt.show()"
   ]
  },
  {
   "cell_type": "code",
   "execution_count": 40,
   "id": "2ded3078",
   "metadata": {},
   "outputs": [
    {
     "name": "stdout",
     "output_type": "stream",
     "text": [
      "ТОП-10 пользователей, которые потратили больше всего денег на сайте:\n",
      "CustomerID\n",
      "14646    280206.02\n",
      "18102    259657.30\n",
      "17450    194390.79\n",
      "14911    143711.17\n",
      "12415    124914.53\n",
      "14156    117210.08\n",
      "17511     91062.38\n",
      "16029     80850.84\n",
      "16684     66653.56\n",
      "14096     65164.79\n",
      "Name: TotalPrice, dtype: float64\n"
     ]
    }
   ],
   "source": [
    "# Найдем топ 10 пользователей, которые потратили больше всего денег на покупку товаров\n",
    "data['TotalPrice'] = data['Quantity'] * data['UnitPrice']\n",
    "\n",
    "# Группировка данных по CustomerID и подсчет общей суммы потраченных денег для каждого пользователя\n",
    "total_spent_top_users = data.groupby('CustomerID')['TotalPrice'].sum().sort_values(ascending=False).head(10)\n",
    "\n",
    "# Вывод ТОП-10 пользователей, которые потратили больше всего денег на сайте\n",
    "print(\"ТОП-10 пользователей, которые потратили больше всего денег на сайте:\")\n",
    "print(total_spent_top_users)"
   ]
  },
  {
   "cell_type": "code",
   "execution_count": 124,
   "id": "a877e6ac",
   "metadata": {},
   "outputs": [
    {
     "data": {
      "image/png": "[encoded data removed]",
      "text/plain": [
       "<Figure size 1000x600 with 1 Axes>"
      ]
     },
     "metadata": {},
     "output_type": "display_data"
    }
   ],
   "source": [
    "# Построим график по пользователям, которые потратили больше всех денег\n",
    "plt.figure(figsize=(10, 6))\n",
    "total_spent_top_users.plot(kind='bar', color='skyblue')\n",
    "plt.xlabel('CustomerID')\n",
    "plt.ylabel('Общая сумма покупок')\n",
    "plt.title('Общая сумма покупок лучшими пользователями')\n",
    "plt.xticks(rotation=45)\n",
    "plt.show()"
   ]
  },
  {
   "cell_type": "markdown",
   "id": "e50a0d05",
   "metadata": {},
   "source": [
    "# Итоговый результат\n",
    "\n",
    "*Произвели просмотр данных, очистили данные от дубликатов и проущенных значений, убедились что в данных есть анмальные значения, от которых также успешно избавились.*\n",
    "\n",
    "*Провели исследовательский анализ данных, в ходе которого узнали что около 4000 пользователей осуществили почти целых 400,000 транзакций, узнали что подавляющим большинством являются пользователи из Великобритании, около 90%.*\n",
    "\n",
    "*На графиках увидели, что рост количества транзакций приходится на период с сентября до начала декабря, из чего мы можем сделать вывод,что возможно это обусловленно подготовкой к Новогодним праздникам и необходимостью покупки разлчиных новогодних подарков или украшений. Об этом говорит нам ТОП купленных товаров, который включает в себя разлчные подставки в виде сердец, сумки и формы для приготовления тортов.*\n",
    "\n",
    "*Также мы узнали, в топ 3 страны по покупкам являются Великобритания, Ирландия и Нидерланды, к слову Великобритания осуществила более 25,000 транзакций (Примерно 80 процентов транзакций от всего ТОП-3 стран).*\n",
    "\n",
    "*Также мы узнали 10 пользователей по количеству купленных товаров за весь период, ТОП-1 приобрел 196,719 товаров, скорее всего он является оптовиком, который в дальнейшем перепродает купленную продукцию, в сравнении с ним, ТОП-2 приобрел 77,242 товаров. В последнем расчёте узнали, что ТОП-10 пользователей принесли практически всю выручку онлайн-магазина, а ТОП-1, тот же самый, что и купил 196,7§9 товаров, принёс более четверти всей выручки.*"
   ]
  },
  {
   "cell_type": "code",
   "execution_count": null,
   "id": "7dc28f19",
   "metadata": {},
   "outputs": [],
   "source": []
  },
  {
   "cell_type": "code",
   "execution_count": null,
   "id": "f2ff8122",
   "metadata": {},
   "outputs": [],
   "source": []
  }
 ],
 "metadata": {
  "kernelspec": {
   "display_name": "Python 3 (ipykernel)",
   "language": "python",
   "name": "python3"
  },
  "language_info": {
   "codemirror_mode": {
    "name": "ipython",
    "version": 3
   },
   "file_extension": ".py",
   "mimetype": "text/x-python",
   "name": "python",
   "nbconvert_exporter": "python",
   "pygments_lexer": "ipython3",
   "version": "3.11.4"
  }
 },
 "nbformat": 4,
 "nbformat_minor": 5
}
